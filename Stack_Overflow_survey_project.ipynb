{
 "cells": [
  {
   "cell_type": "code",
   "execution_count": 1,
   "metadata": {},
   "outputs": [],
   "source": [
    "import numpy as np\n",
    "import pandas as pd\n",
    "import matplotlib.pyplot as plt\n",
    "# pycountry_convert is used to convert country name to continent name\n",
    "import pycountry_convert as pc\n",
    "from collections import Counter\n",
    "import warnings\n",
    "warnings.filterwarnings(\"ignore\")\n",
    "% matplotlib inline"
   ]
  },
  {
   "cell_type": "markdown",
   "metadata": {},
   "source": [
    "**Business Understanding** <br>\n",
    "This project tries to answer the following questions using the the Stack Overflow Annual Developer Survey dataset.\n",
    "- What is the most popular programming language in the past five years? \n",
    "- What is the most popular IDE for professional software developers in the past five years? \n",
    "- How much does professional software developers make in the past five years? What is the salary increase rate?"
   ]
  },
  {
   "cell_type": "markdown",
   "metadata": {},
   "source": [
    "# 1. Gather"
   ]
  },
  {
   "cell_type": "code",
   "execution_count": 2,
   "metadata": {
    "scrolled": true
   },
   "outputs": [],
   "source": [
    "# reading source data from csv files\n",
    "df2015 = pd.read_csv('data/2015.csv', header=1)\n",
    "df2016 = pd.read_csv('data/2016.csv')\n",
    "df2017 = pd.read_csv('data/2017.csv')\n",
    "df2018 = pd.read_csv('data/2018.csv')\n",
    "df2019 = pd.read_csv('data/2019.csv')"
   ]
  },
  {
   "cell_type": "markdown",
   "metadata": {},
   "source": [
    "# 2. Assess"
   ]
  },
  {
   "cell_type": "markdown",
   "metadata": {},
   "source": [
    "**Data Understanding** <br>\n",
    "After loading the dataset, the first step is to understand the dataset. I need to know how many rows and columns for each dataset? How many missing values in the dataset? Which columns are related to the business questions? What are the data types? etc."
   ]
  },
  {
   "cell_type": "code",
   "execution_count": 3,
   "metadata": {},
   "outputs": [
    {
     "name": "stdout",
     "output_type": "stream",
     "text": [
      "shape of 2015: (26086, 222)\n",
      "shape of 2016: (56030, 66)\n",
      "shape of 2017: (51392, 154)\n",
      "shape of 2018: (98855, 129)\n",
      "shape of 2019: (88883, 85)\n"
     ]
    }
   ],
   "source": [
    "print('shape of 2015:', df2015.shape)\n",
    "print('shape of 2016:', df2016.shape)\n",
    "print('shape of 2017:', df2017.shape)\n",
    "print('shape of 2018:', df2018.shape)\n",
    "print('shape of 2019:', df2019.shape)"
   ]
  },
  {
   "cell_type": "code",
   "execution_count": 4,
   "metadata": {},
   "outputs": [
    {
     "data": {
      "text/plain": [
       "Unnamed: 0                          0.000000\n",
       "collector                           0.000000\n",
       "age_range                           0.005408\n",
       "gender                              0.007924\n",
       "country                             0.008959\n",
       "so_region                           0.011422\n",
       "age_midpoint                        0.012386\n",
       "un_subregion                        0.012797\n",
       "self_identification                 0.032625\n",
       "employment_status                   0.115188\n",
       "experience_range                    0.116188\n",
       "experience_midpoint                 0.116188\n",
       "occupation                          0.116206\n",
       "aliens                              0.122309\n",
       "tech_do                             0.125022\n",
       "big_mac_index                       0.128592\n",
       "tech_want                           0.144173\n",
       "programming_ability                 0.161485\n",
       "occupation_group                    0.162342\n",
       "hobby                               0.167000\n",
       "unit_testing                        0.167285\n",
       "commit_frequency                    0.168338\n",
       "desktop_os                          0.170962\n",
       "visit_frequency                     0.176263\n",
       "why_learn_new_tech                  0.176423\n",
       "rep_range                           0.176459\n",
       "salary_range                        0.176852\n",
       "dev_environment                     0.184133\n",
       "dogs_vs_cats                        0.192593\n",
       "education                           0.197662\n",
       "                                      ...   \n",
       "agree_tech                          0.238586\n",
       "agree_problemsolving                0.238640\n",
       "important_variety                   0.239193\n",
       "agree_adblocker                     0.239211\n",
       "agree_nightcode                     0.239461\n",
       "important_newtech                   0.239622\n",
       "important_wfh                       0.240014\n",
       "important_buildexisting             0.240050\n",
       "important_control                   0.240193\n",
       "important_ownoffice                 0.240800\n",
       "important_buildnew                  0.240800\n",
       "important_sameend                   0.240925\n",
       "important_companymission            0.240960\n",
       "agree_diversity                     0.241389\n",
       "important_promotion                 0.241781\n",
       "agree_legacy                        0.243584\n",
       "interview_likelihood                0.245708\n",
       "agree_loveboss                      0.248688\n",
       "why_stack_overflow                  0.254096\n",
       "salary_midpoint                     0.255006\n",
       "developer_challenges                0.266536\n",
       "how_to_improve_interview_process    0.267517\n",
       "remote                              0.283991\n",
       "industry                            0.284133\n",
       "job_satisfaction                    0.284133\n",
       "job_discovery                       0.285615\n",
       "team_size_range                     0.286775\n",
       "company_size_range                  0.287310\n",
       "women_on_team                       0.289523\n",
       "star_wars_vs_star_trek              0.386079\n",
       "Length: 66, dtype: float64"
      ]
     },
     "execution_count": 4,
     "metadata": {},
     "output_type": "execute_result"
    }
   ],
   "source": [
    "df2016.isnull().mean().sort_values()"
   ]
  },
  {
   "cell_type": "code",
   "execution_count": 5,
   "metadata": {},
   "outputs": [
    {
     "data": {
      "text/html": [
       "<div>\n",
       "<style scoped>\n",
       "    .dataframe tbody tr th:only-of-type {\n",
       "        vertical-align: middle;\n",
       "    }\n",
       "\n",
       "    .dataframe tbody tr th {\n",
       "        vertical-align: top;\n",
       "    }\n",
       "\n",
       "    .dataframe thead th {\n",
       "        text-align: right;\n",
       "    }\n",
       "</style>\n",
       "<table border=\"1\" class=\"dataframe\">\n",
       "  <thead>\n",
       "    <tr style=\"text-align: right;\">\n",
       "      <th></th>\n",
       "      <th>Respondent</th>\n",
       "      <th>CareerSatisfaction</th>\n",
       "      <th>JobSatisfaction</th>\n",
       "      <th>HoursPerWeek</th>\n",
       "      <th>StackOverflowSatisfaction</th>\n",
       "      <th>Salary</th>\n",
       "      <th>ExpectedSalary</th>\n",
       "    </tr>\n",
       "  </thead>\n",
       "  <tbody>\n",
       "    <tr>\n",
       "      <th>count</th>\n",
       "      <td>51392.000000</td>\n",
       "      <td>42695.000000</td>\n",
       "      <td>40376.000000</td>\n",
       "      <td>20600.000000</td>\n",
       "      <td>36592.000000</td>\n",
       "      <td>12891.000000</td>\n",
       "      <td>2566.000000</td>\n",
       "    </tr>\n",
       "    <tr>\n",
       "      <th>mean</th>\n",
       "      <td>25696.500000</td>\n",
       "      <td>7.300574</td>\n",
       "      <td>6.957078</td>\n",
       "      <td>3.952282</td>\n",
       "      <td>8.429875</td>\n",
       "      <td>56298.480641</td>\n",
       "      <td>33142.220468</td>\n",
       "    </tr>\n",
       "    <tr>\n",
       "      <th>std</th>\n",
       "      <td>14835.736854</td>\n",
       "      <td>1.955444</td>\n",
       "      <td>2.167652</td>\n",
       "      <td>7.564722</td>\n",
       "      <td>1.390635</td>\n",
       "      <td>39880.905277</td>\n",
       "      <td>30162.988829</td>\n",
       "    </tr>\n",
       "    <tr>\n",
       "      <th>min</th>\n",
       "      <td>1.000000</td>\n",
       "      <td>0.000000</td>\n",
       "      <td>0.000000</td>\n",
       "      <td>0.000000</td>\n",
       "      <td>0.000000</td>\n",
       "      <td>0.000000</td>\n",
       "      <td>0.000000</td>\n",
       "    </tr>\n",
       "    <tr>\n",
       "      <th>25%</th>\n",
       "      <td>12848.750000</td>\n",
       "      <td>6.000000</td>\n",
       "      <td>6.000000</td>\n",
       "      <td>1.000000</td>\n",
       "      <td>8.000000</td>\n",
       "      <td>26440.371839</td>\n",
       "      <td>4490.492484</td>\n",
       "    </tr>\n",
       "    <tr>\n",
       "      <th>50%</th>\n",
       "      <td>25696.500000</td>\n",
       "      <td>8.000000</td>\n",
       "      <td>7.000000</td>\n",
       "      <td>1.000000</td>\n",
       "      <td>9.000000</td>\n",
       "      <td>50000.000000</td>\n",
       "      <td>29364.263691</td>\n",
       "    </tr>\n",
       "    <tr>\n",
       "      <th>75%</th>\n",
       "      <td>38544.250000</td>\n",
       "      <td>9.000000</td>\n",
       "      <td>8.000000</td>\n",
       "      <td>4.000000</td>\n",
       "      <td>10.000000</td>\n",
       "      <td>80000.000000</td>\n",
       "      <td>50403.225806</td>\n",
       "    </tr>\n",
       "    <tr>\n",
       "      <th>max</th>\n",
       "      <td>51392.000000</td>\n",
       "      <td>10.000000</td>\n",
       "      <td>10.000000</td>\n",
       "      <td>40.000000</td>\n",
       "      <td>10.000000</td>\n",
       "      <td>197000.000000</td>\n",
       "      <td>187500.000000</td>\n",
       "    </tr>\n",
       "  </tbody>\n",
       "</table>\n",
       "</div>"
      ],
      "text/plain": [
       "         Respondent  CareerSatisfaction  JobSatisfaction  HoursPerWeek  \\\n",
       "count  51392.000000        42695.000000     40376.000000  20600.000000   \n",
       "mean   25696.500000            7.300574         6.957078      3.952282   \n",
       "std    14835.736854            1.955444         2.167652      7.564722   \n",
       "min        1.000000            0.000000         0.000000      0.000000   \n",
       "25%    12848.750000            6.000000         6.000000      1.000000   \n",
       "50%    25696.500000            8.000000         7.000000      1.000000   \n",
       "75%    38544.250000            9.000000         8.000000      4.000000   \n",
       "max    51392.000000           10.000000        10.000000     40.000000   \n",
       "\n",
       "       StackOverflowSatisfaction         Salary  ExpectedSalary  \n",
       "count               36592.000000   12891.000000     2566.000000  \n",
       "mean                    8.429875   56298.480641    33142.220468  \n",
       "std                     1.390635   39880.905277    30162.988829  \n",
       "min                     0.000000       0.000000        0.000000  \n",
       "25%                     8.000000   26440.371839     4490.492484  \n",
       "50%                     9.000000   50000.000000    29364.263691  \n",
       "75%                    10.000000   80000.000000    50403.225806  \n",
       "max                    10.000000  197000.000000   187500.000000  "
      ]
     },
     "execution_count": 5,
     "metadata": {},
     "output_type": "execute_result"
    }
   ],
   "source": [
    "df2017.describe()"
   ]
  },
  {
   "cell_type": "code",
   "execution_count": 6,
   "metadata": {
    "scrolled": true
   },
   "outputs": [
    {
     "name": "stdout",
     "output_type": "stream",
     "text": [
      "<class 'pandas.core.frame.DataFrame'>\n",
      "RangeIndex: 56030 entries, 0 to 56029\n",
      "Data columns (total 66 columns):\n",
      "Unnamed: 0                          56030 non-null int64\n",
      "collector                           56030 non-null object\n",
      "country                             55528 non-null object\n",
      "un_subregion                        55313 non-null object\n",
      "so_region                           55390 non-null object\n",
      "age_range                           55727 non-null object\n",
      "age_midpoint                        55336 non-null float64\n",
      "gender                              55586 non-null object\n",
      "self_identification                 54202 non-null object\n",
      "occupation                          49519 non-null object\n",
      "occupation_group                    46934 non-null object\n",
      "experience_range                    49520 non-null object\n",
      "experience_midpoint                 49520 non-null float64\n",
      "salary_range                        46121 non-null object\n",
      "salary_midpoint                     41742 non-null float64\n",
      "big_mac_index                       48825 non-null float64\n",
      "tech_do                             49025 non-null object\n",
      "tech_want                           47952 non-null object\n",
      "aliens                              49177 non-null object\n",
      "programming_ability                 46982 non-null float64\n",
      "employment_status                   49576 non-null object\n",
      "industry                            40110 non-null object\n",
      "company_size_range                  39932 non-null object\n",
      "team_size_range                     39962 non-null object\n",
      "women_on_team                       39808 non-null object\n",
      "remote                              40118 non-null object\n",
      "job_satisfaction                    40110 non-null object\n",
      "job_discovery                       40027 non-null object\n",
      "dev_environment                     45713 non-null object\n",
      "commit_frequency                    46598 non-null object\n",
      "hobby                               46673 non-null object\n",
      "dogs_vs_cats                        45239 non-null object\n",
      "desktop_os                          46451 non-null object\n",
      "unit_testing                        46657 non-null object\n",
      "rep_range                           46143 non-null object\n",
      "visit_frequency                     46154 non-null object\n",
      "why_learn_new_tech                  46145 non-null object\n",
      "education                           44955 non-null object\n",
      "open_to_new_job                     44380 non-null object\n",
      "new_job_value                       43658 non-null object\n",
      "job_search_annoyance                42851 non-null object\n",
      "interview_likelihood                42263 non-null object\n",
      "how_to_improve_interview_process    41041 non-null object\n",
      "star_wars_vs_star_trek              34398 non-null object\n",
      "agree_tech                          42662 non-null object\n",
      "agree_notice                        42755 non-null object\n",
      "agree_problemsolving                42659 non-null object\n",
      "agree_diversity                     42505 non-null object\n",
      "agree_adblocker                     42627 non-null object\n",
      "agree_alcohol                       42692 non-null object\n",
      "agree_loveboss                      42096 non-null object\n",
      "agree_nightcode                     42613 non-null object\n",
      "agree_legacy                        42382 non-null object\n",
      "agree_mars                          42685 non-null object\n",
      "important_variety                   42628 non-null object\n",
      "important_control                   42572 non-null object\n",
      "important_sameend                   42531 non-null object\n",
      "important_newtech                   42604 non-null object\n",
      "important_buildnew                  42538 non-null object\n",
      "important_buildexisting             42580 non-null object\n",
      "important_promotion                 42483 non-null object\n",
      "important_companymission            42529 non-null object\n",
      "important_wfh                       42582 non-null object\n",
      "important_ownoffice                 42538 non-null object\n",
      "developer_challenges                41096 non-null object\n",
      "why_stack_overflow                  41793 non-null object\n",
      "dtypes: float64(5), int64(1), object(60)\n",
      "memory usage: 28.2+ MB\n"
     ]
    }
   ],
   "source": [
    "df2016.info()"
   ]
  },
  {
   "cell_type": "code",
   "execution_count": 7,
   "metadata": {},
   "outputs": [
    {
     "data": {
      "text/html": [
       "<div>\n",
       "<style scoped>\n",
       "    .dataframe tbody tr th:only-of-type {\n",
       "        vertical-align: middle;\n",
       "    }\n",
       "\n",
       "    .dataframe tbody tr th {\n",
       "        vertical-align: top;\n",
       "    }\n",
       "\n",
       "    .dataframe thead th {\n",
       "        text-align: right;\n",
       "    }\n",
       "</style>\n",
       "<table border=\"1\" class=\"dataframe\">\n",
       "  <thead>\n",
       "    <tr style=\"text-align: right;\">\n",
       "      <th></th>\n",
       "      <th>Respondent</th>\n",
       "      <th>MainBranch</th>\n",
       "      <th>Hobbyist</th>\n",
       "      <th>OpenSourcer</th>\n",
       "      <th>OpenSource</th>\n",
       "      <th>Employment</th>\n",
       "      <th>Country</th>\n",
       "      <th>Student</th>\n",
       "      <th>EdLevel</th>\n",
       "      <th>UndergradMajor</th>\n",
       "      <th>...</th>\n",
       "      <th>WelcomeChange</th>\n",
       "      <th>SONewContent</th>\n",
       "      <th>Age</th>\n",
       "      <th>Gender</th>\n",
       "      <th>Trans</th>\n",
       "      <th>Sexuality</th>\n",
       "      <th>Ethnicity</th>\n",
       "      <th>Dependents</th>\n",
       "      <th>SurveyLength</th>\n",
       "      <th>SurveyEase</th>\n",
       "    </tr>\n",
       "  </thead>\n",
       "  <tbody>\n",
       "    <tr>\n",
       "      <th>0</th>\n",
       "      <td>1</td>\n",
       "      <td>I am a student who is learning to code</td>\n",
       "      <td>Yes</td>\n",
       "      <td>Never</td>\n",
       "      <td>The quality of OSS and closed source software ...</td>\n",
       "      <td>Not employed, and not looking for work</td>\n",
       "      <td>United Kingdom</td>\n",
       "      <td>No</td>\n",
       "      <td>Primary/elementary school</td>\n",
       "      <td>NaN</td>\n",
       "      <td>...</td>\n",
       "      <td>Just as welcome now as I felt last year</td>\n",
       "      <td>Tech articles written by other developers;Indu...</td>\n",
       "      <td>14.0</td>\n",
       "      <td>Man</td>\n",
       "      <td>No</td>\n",
       "      <td>Straight / Heterosexual</td>\n",
       "      <td>NaN</td>\n",
       "      <td>No</td>\n",
       "      <td>Appropriate in length</td>\n",
       "      <td>Neither easy nor difficult</td>\n",
       "    </tr>\n",
       "    <tr>\n",
       "      <th>1</th>\n",
       "      <td>2</td>\n",
       "      <td>I am a student who is learning to code</td>\n",
       "      <td>No</td>\n",
       "      <td>Less than once per year</td>\n",
       "      <td>The quality of OSS and closed source software ...</td>\n",
       "      <td>Not employed, but looking for work</td>\n",
       "      <td>Bosnia and Herzegovina</td>\n",
       "      <td>Yes, full-time</td>\n",
       "      <td>Secondary school (e.g. American high school, G...</td>\n",
       "      <td>NaN</td>\n",
       "      <td>...</td>\n",
       "      <td>Just as welcome now as I felt last year</td>\n",
       "      <td>Tech articles written by other developers;Indu...</td>\n",
       "      <td>19.0</td>\n",
       "      <td>Man</td>\n",
       "      <td>No</td>\n",
       "      <td>Straight / Heterosexual</td>\n",
       "      <td>NaN</td>\n",
       "      <td>No</td>\n",
       "      <td>Appropriate in length</td>\n",
       "      <td>Neither easy nor difficult</td>\n",
       "    </tr>\n",
       "    <tr>\n",
       "      <th>2</th>\n",
       "      <td>3</td>\n",
       "      <td>I am not primarily a developer, but I write co...</td>\n",
       "      <td>Yes</td>\n",
       "      <td>Never</td>\n",
       "      <td>The quality of OSS and closed source software ...</td>\n",
       "      <td>Employed full-time</td>\n",
       "      <td>Thailand</td>\n",
       "      <td>No</td>\n",
       "      <td>Bachelor’s degree (BA, BS, B.Eng., etc.)</td>\n",
       "      <td>Web development or web design</td>\n",
       "      <td>...</td>\n",
       "      <td>Just as welcome now as I felt last year</td>\n",
       "      <td>Tech meetups or events in your area;Courses on...</td>\n",
       "      <td>28.0</td>\n",
       "      <td>Man</td>\n",
       "      <td>No</td>\n",
       "      <td>Straight / Heterosexual</td>\n",
       "      <td>NaN</td>\n",
       "      <td>Yes</td>\n",
       "      <td>Appropriate in length</td>\n",
       "      <td>Neither easy nor difficult</td>\n",
       "    </tr>\n",
       "  </tbody>\n",
       "</table>\n",
       "<p>3 rows × 85 columns</p>\n",
       "</div>"
      ],
      "text/plain": [
       "   Respondent                                         MainBranch Hobbyist  \\\n",
       "0           1             I am a student who is learning to code      Yes   \n",
       "1           2             I am a student who is learning to code       No   \n",
       "2           3  I am not primarily a developer, but I write co...      Yes   \n",
       "\n",
       "               OpenSourcer                                         OpenSource  \\\n",
       "0                    Never  The quality of OSS and closed source software ...   \n",
       "1  Less than once per year  The quality of OSS and closed source software ...   \n",
       "2                    Never  The quality of OSS and closed source software ...   \n",
       "\n",
       "                               Employment                 Country  \\\n",
       "0  Not employed, and not looking for work          United Kingdom   \n",
       "1      Not employed, but looking for work  Bosnia and Herzegovina   \n",
       "2                      Employed full-time                Thailand   \n",
       "\n",
       "          Student                                            EdLevel  \\\n",
       "0              No                          Primary/elementary school   \n",
       "1  Yes, full-time  Secondary school (e.g. American high school, G...   \n",
       "2              No           Bachelor’s degree (BA, BS, B.Eng., etc.)   \n",
       "\n",
       "                  UndergradMajor             ...              \\\n",
       "0                            NaN             ...               \n",
       "1                            NaN             ...               \n",
       "2  Web development or web design             ...               \n",
       "\n",
       "                             WelcomeChange  \\\n",
       "0  Just as welcome now as I felt last year   \n",
       "1  Just as welcome now as I felt last year   \n",
       "2  Just as welcome now as I felt last year   \n",
       "\n",
       "                                        SONewContent   Age Gender Trans  \\\n",
       "0  Tech articles written by other developers;Indu...  14.0    Man    No   \n",
       "1  Tech articles written by other developers;Indu...  19.0    Man    No   \n",
       "2  Tech meetups or events in your area;Courses on...  28.0    Man    No   \n",
       "\n",
       "                 Sexuality Ethnicity Dependents           SurveyLength  \\\n",
       "0  Straight / Heterosexual       NaN         No  Appropriate in length   \n",
       "1  Straight / Heterosexual       NaN         No  Appropriate in length   \n",
       "2  Straight / Heterosexual       NaN        Yes  Appropriate in length   \n",
       "\n",
       "                   SurveyEase  \n",
       "0  Neither easy nor difficult  \n",
       "1  Neither easy nor difficult  \n",
       "2  Neither easy nor difficult  \n",
       "\n",
       "[3 rows x 85 columns]"
      ]
     },
     "execution_count": 7,
     "metadata": {},
     "output_type": "execute_result"
    }
   ],
   "source": [
    "df2019.head(3)"
   ]
  },
  {
   "cell_type": "code",
   "execution_count": 8,
   "metadata": {},
   "outputs": [
    {
     "data": {
      "text/plain": [
       "['Respondent',\n",
       " 'Hobby',\n",
       " 'OpenSource',\n",
       " 'Country',\n",
       " 'Student',\n",
       " 'Employment',\n",
       " 'FormalEducation',\n",
       " 'UndergradMajor',\n",
       " 'CompanySize',\n",
       " 'DevType',\n",
       " 'YearsCoding',\n",
       " 'YearsCodingProf',\n",
       " 'JobSatisfaction',\n",
       " 'CareerSatisfaction',\n",
       " 'HopeFiveYears',\n",
       " 'JobSearchStatus',\n",
       " 'LastNewJob',\n",
       " 'AssessJob1',\n",
       " 'AssessJob2',\n",
       " 'AssessJob3',\n",
       " 'AssessJob4',\n",
       " 'AssessJob5',\n",
       " 'AssessJob6',\n",
       " 'AssessJob7',\n",
       " 'AssessJob8',\n",
       " 'AssessJob9',\n",
       " 'AssessJob10',\n",
       " 'AssessBenefits1',\n",
       " 'AssessBenefits2',\n",
       " 'AssessBenefits3',\n",
       " 'AssessBenefits4',\n",
       " 'AssessBenefits5',\n",
       " 'AssessBenefits6',\n",
       " 'AssessBenefits7',\n",
       " 'AssessBenefits8',\n",
       " 'AssessBenefits9',\n",
       " 'AssessBenefits10',\n",
       " 'AssessBenefits11',\n",
       " 'JobContactPriorities1',\n",
       " 'JobContactPriorities2',\n",
       " 'JobContactPriorities3',\n",
       " 'JobContactPriorities4',\n",
       " 'JobContactPriorities5',\n",
       " 'JobEmailPriorities1',\n",
       " 'JobEmailPriorities2',\n",
       " 'JobEmailPriorities3',\n",
       " 'JobEmailPriorities4',\n",
       " 'JobEmailPriorities5',\n",
       " 'JobEmailPriorities6',\n",
       " 'JobEmailPriorities7',\n",
       " 'UpdateCV',\n",
       " 'Currency',\n",
       " 'Salary',\n",
       " 'SalaryType',\n",
       " 'ConvertedSalary',\n",
       " 'CurrencySymbol',\n",
       " 'CommunicationTools',\n",
       " 'TimeFullyProductive',\n",
       " 'EducationTypes',\n",
       " 'SelfTaughtTypes',\n",
       " 'TimeAfterBootcamp',\n",
       " 'HackathonReasons',\n",
       " 'AgreeDisagree1',\n",
       " 'AgreeDisagree2',\n",
       " 'AgreeDisagree3',\n",
       " 'LanguageWorkedWith',\n",
       " 'LanguageDesireNextYear',\n",
       " 'DatabaseWorkedWith',\n",
       " 'DatabaseDesireNextYear',\n",
       " 'PlatformWorkedWith',\n",
       " 'PlatformDesireNextYear',\n",
       " 'FrameworkWorkedWith',\n",
       " 'FrameworkDesireNextYear',\n",
       " 'IDE',\n",
       " 'OperatingSystem',\n",
       " 'NumberMonitors',\n",
       " 'Methodology',\n",
       " 'VersionControl',\n",
       " 'CheckInCode',\n",
       " 'AdBlocker',\n",
       " 'AdBlockerDisable',\n",
       " 'AdBlockerReasons',\n",
       " 'AdsAgreeDisagree1',\n",
       " 'AdsAgreeDisagree2',\n",
       " 'AdsAgreeDisagree3',\n",
       " 'AdsActions',\n",
       " 'AdsPriorities1',\n",
       " 'AdsPriorities2',\n",
       " 'AdsPriorities3',\n",
       " 'AdsPriorities4',\n",
       " 'AdsPriorities5',\n",
       " 'AdsPriorities6',\n",
       " 'AdsPriorities7',\n",
       " 'AIDangerous',\n",
       " 'AIInteresting',\n",
       " 'AIResponsible',\n",
       " 'AIFuture',\n",
       " 'EthicsChoice',\n",
       " 'EthicsReport',\n",
       " 'EthicsResponsible',\n",
       " 'EthicalImplications',\n",
       " 'StackOverflowRecommend',\n",
       " 'StackOverflowVisit',\n",
       " 'StackOverflowHasAccount',\n",
       " 'StackOverflowParticipate',\n",
       " 'StackOverflowJobs',\n",
       " 'StackOverflowDevStory',\n",
       " 'StackOverflowJobsRecommend',\n",
       " 'StackOverflowConsiderMember',\n",
       " 'HypotheticalTools1',\n",
       " 'HypotheticalTools2',\n",
       " 'HypotheticalTools3',\n",
       " 'HypotheticalTools4',\n",
       " 'HypotheticalTools5',\n",
       " 'WakeTime',\n",
       " 'HoursComputer',\n",
       " 'HoursOutside',\n",
       " 'SkipMeals',\n",
       " 'ErgonomicDevices',\n",
       " 'Exercise',\n",
       " 'Gender',\n",
       " 'SexualOrientation',\n",
       " 'EducationParents',\n",
       " 'RaceEthnicity',\n",
       " 'Age',\n",
       " 'Dependents',\n",
       " 'MilitaryUS',\n",
       " 'SurveyTooLong',\n",
       " 'SurveyEasy']"
      ]
     },
     "execution_count": 8,
     "metadata": {},
     "output_type": "execute_result"
    }
   ],
   "source": [
    "list(df2018.columns)"
   ]
  },
  {
   "cell_type": "code",
   "execution_count": 9,
   "metadata": {},
   "outputs": [
    {
     "data": {
      "text/html": [
       "<div>\n",
       "<style scoped>\n",
       "    .dataframe tbody tr th:only-of-type {\n",
       "        vertical-align: middle;\n",
       "    }\n",
       "\n",
       "    .dataframe tbody tr th {\n",
       "        vertical-align: top;\n",
       "    }\n",
       "\n",
       "    .dataframe thead th {\n",
       "        text-align: right;\n",
       "    }\n",
       "</style>\n",
       "<table border=\"1\" class=\"dataframe\">\n",
       "  <thead>\n",
       "    <tr style=\"text-align: right;\">\n",
       "      <th></th>\n",
       "      <th>Respondent</th>\n",
       "      <th>AssessJob1</th>\n",
       "      <th>AssessJob2</th>\n",
       "      <th>AssessJob3</th>\n",
       "      <th>AssessJob4</th>\n",
       "      <th>AssessJob5</th>\n",
       "      <th>AssessJob6</th>\n",
       "      <th>AssessJob7</th>\n",
       "      <th>AssessJob8</th>\n",
       "      <th>AssessJob9</th>\n",
       "      <th>...</th>\n",
       "      <th>JobEmailPriorities6</th>\n",
       "      <th>JobEmailPriorities7</th>\n",
       "      <th>ConvertedSalary</th>\n",
       "      <th>AdsPriorities1</th>\n",
       "      <th>AdsPriorities2</th>\n",
       "      <th>AdsPriorities3</th>\n",
       "      <th>AdsPriorities4</th>\n",
       "      <th>AdsPriorities5</th>\n",
       "      <th>AdsPriorities6</th>\n",
       "      <th>AdsPriorities7</th>\n",
       "    </tr>\n",
       "  </thead>\n",
       "  <tbody>\n",
       "    <tr>\n",
       "      <th>count</th>\n",
       "      <td>98855.000000</td>\n",
       "      <td>66985.000000</td>\n",
       "      <td>66985.000000</td>\n",
       "      <td>66985.000000</td>\n",
       "      <td>66985.000000</td>\n",
       "      <td>66985.000000</td>\n",
       "      <td>66985.000000</td>\n",
       "      <td>66985.000000</td>\n",
       "      <td>66985.000000</td>\n",
       "      <td>66985.000000</td>\n",
       "      <td>...</td>\n",
       "      <td>46213.00000</td>\n",
       "      <td>46213.000000</td>\n",
       "      <td>4.770200e+04</td>\n",
       "      <td>60479.000000</td>\n",
       "      <td>60479.000000</td>\n",
       "      <td>60479.000000</td>\n",
       "      <td>60479.000000</td>\n",
       "      <td>60479.000000</td>\n",
       "      <td>60479.000000</td>\n",
       "      <td>60479.000000</td>\n",
       "    </tr>\n",
       "    <tr>\n",
       "      <th>mean</th>\n",
       "      <td>50822.971635</td>\n",
       "      <td>6.397089</td>\n",
       "      <td>6.673524</td>\n",
       "      <td>5.906875</td>\n",
       "      <td>4.065791</td>\n",
       "      <td>3.953243</td>\n",
       "      <td>4.407196</td>\n",
       "      <td>5.673181</td>\n",
       "      <td>4.225200</td>\n",
       "      <td>7.640009</td>\n",
       "      <td>...</td>\n",
       "      <td>4.97425</td>\n",
       "      <td>4.836388</td>\n",
       "      <td>9.578086e+04</td>\n",
       "      <td>2.726880</td>\n",
       "      <td>3.805784</td>\n",
       "      <td>3.340945</td>\n",
       "      <td>3.782470</td>\n",
       "      <td>4.383604</td>\n",
       "      <td>5.138809</td>\n",
       "      <td>4.821459</td>\n",
       "    </tr>\n",
       "    <tr>\n",
       "      <th>std</th>\n",
       "      <td>29321.650410</td>\n",
       "      <td>2.788428</td>\n",
       "      <td>2.531202</td>\n",
       "      <td>2.642734</td>\n",
       "      <td>2.541196</td>\n",
       "      <td>2.520499</td>\n",
       "      <td>2.502069</td>\n",
       "      <td>2.923998</td>\n",
       "      <td>2.507411</td>\n",
       "      <td>2.407457</td>\n",
       "      <td>...</td>\n",
       "      <td>1.86063</td>\n",
       "      <td>1.659844</td>\n",
       "      <td>2.023482e+05</td>\n",
       "      <td>1.881078</td>\n",
       "      <td>1.821323</td>\n",
       "      <td>1.673485</td>\n",
       "      <td>1.844864</td>\n",
       "      <td>1.931746</td>\n",
       "      <td>1.853249</td>\n",
       "      <td>1.874895</td>\n",
       "    </tr>\n",
       "    <tr>\n",
       "      <th>min</th>\n",
       "      <td>1.000000</td>\n",
       "      <td>1.000000</td>\n",
       "      <td>1.000000</td>\n",
       "      <td>1.000000</td>\n",
       "      <td>1.000000</td>\n",
       "      <td>1.000000</td>\n",
       "      <td>1.000000</td>\n",
       "      <td>1.000000</td>\n",
       "      <td>1.000000</td>\n",
       "      <td>1.000000</td>\n",
       "      <td>...</td>\n",
       "      <td>1.00000</td>\n",
       "      <td>1.000000</td>\n",
       "      <td>0.000000e+00</td>\n",
       "      <td>1.000000</td>\n",
       "      <td>1.000000</td>\n",
       "      <td>1.000000</td>\n",
       "      <td>1.000000</td>\n",
       "      <td>1.000000</td>\n",
       "      <td>1.000000</td>\n",
       "      <td>1.000000</td>\n",
       "    </tr>\n",
       "    <tr>\n",
       "      <th>25%</th>\n",
       "      <td>25443.500000</td>\n",
       "      <td>4.000000</td>\n",
       "      <td>5.000000</td>\n",
       "      <td>4.000000</td>\n",
       "      <td>2.000000</td>\n",
       "      <td>2.000000</td>\n",
       "      <td>2.000000</td>\n",
       "      <td>3.000000</td>\n",
       "      <td>2.000000</td>\n",
       "      <td>6.000000</td>\n",
       "      <td>...</td>\n",
       "      <td>4.00000</td>\n",
       "      <td>4.000000</td>\n",
       "      <td>2.384400e+04</td>\n",
       "      <td>1.000000</td>\n",
       "      <td>2.000000</td>\n",
       "      <td>2.000000</td>\n",
       "      <td>2.000000</td>\n",
       "      <td>3.000000</td>\n",
       "      <td>4.000000</td>\n",
       "      <td>3.000000</td>\n",
       "    </tr>\n",
       "    <tr>\n",
       "      <th>50%</th>\n",
       "      <td>50823.000000</td>\n",
       "      <td>7.000000</td>\n",
       "      <td>7.000000</td>\n",
       "      <td>6.000000</td>\n",
       "      <td>4.000000</td>\n",
       "      <td>3.000000</td>\n",
       "      <td>4.000000</td>\n",
       "      <td>6.000000</td>\n",
       "      <td>4.000000</td>\n",
       "      <td>8.000000</td>\n",
       "      <td>...</td>\n",
       "      <td>5.00000</td>\n",
       "      <td>5.000000</td>\n",
       "      <td>5.507500e+04</td>\n",
       "      <td>2.000000</td>\n",
       "      <td>4.000000</td>\n",
       "      <td>3.000000</td>\n",
       "      <td>4.000000</td>\n",
       "      <td>5.000000</td>\n",
       "      <td>6.000000</td>\n",
       "      <td>5.000000</td>\n",
       "    </tr>\n",
       "    <tr>\n",
       "      <th>75%</th>\n",
       "      <td>76219.500000</td>\n",
       "      <td>9.000000</td>\n",
       "      <td>9.000000</td>\n",
       "      <td>8.000000</td>\n",
       "      <td>6.000000</td>\n",
       "      <td>6.000000</td>\n",
       "      <td>6.000000</td>\n",
       "      <td>8.000000</td>\n",
       "      <td>6.000000</td>\n",
       "      <td>10.000000</td>\n",
       "      <td>...</td>\n",
       "      <td>7.00000</td>\n",
       "      <td>6.000000</td>\n",
       "      <td>9.300000e+04</td>\n",
       "      <td>4.000000</td>\n",
       "      <td>5.000000</td>\n",
       "      <td>5.000000</td>\n",
       "      <td>5.000000</td>\n",
       "      <td>6.000000</td>\n",
       "      <td>7.000000</td>\n",
       "      <td>7.000000</td>\n",
       "    </tr>\n",
       "    <tr>\n",
       "      <th>max</th>\n",
       "      <td>101592.000000</td>\n",
       "      <td>10.000000</td>\n",
       "      <td>10.000000</td>\n",
       "      <td>10.000000</td>\n",
       "      <td>10.000000</td>\n",
       "      <td>10.000000</td>\n",
       "      <td>10.000000</td>\n",
       "      <td>10.000000</td>\n",
       "      <td>10.000000</td>\n",
       "      <td>10.000000</td>\n",
       "      <td>...</td>\n",
       "      <td>7.00000</td>\n",
       "      <td>7.000000</td>\n",
       "      <td>2.000000e+06</td>\n",
       "      <td>7.000000</td>\n",
       "      <td>7.000000</td>\n",
       "      <td>7.000000</td>\n",
       "      <td>7.000000</td>\n",
       "      <td>7.000000</td>\n",
       "      <td>7.000000</td>\n",
       "      <td>7.000000</td>\n",
       "    </tr>\n",
       "  </tbody>\n",
       "</table>\n",
       "<p>8 rows × 42 columns</p>\n",
       "</div>"
      ],
      "text/plain": [
       "          Respondent    AssessJob1    AssessJob2    AssessJob3    AssessJob4  \\\n",
       "count   98855.000000  66985.000000  66985.000000  66985.000000  66985.000000   \n",
       "mean    50822.971635      6.397089      6.673524      5.906875      4.065791   \n",
       "std     29321.650410      2.788428      2.531202      2.642734      2.541196   \n",
       "min         1.000000      1.000000      1.000000      1.000000      1.000000   \n",
       "25%     25443.500000      4.000000      5.000000      4.000000      2.000000   \n",
       "50%     50823.000000      7.000000      7.000000      6.000000      4.000000   \n",
       "75%     76219.500000      9.000000      9.000000      8.000000      6.000000   \n",
       "max    101592.000000     10.000000     10.000000     10.000000     10.000000   \n",
       "\n",
       "         AssessJob5    AssessJob6    AssessJob7    AssessJob8    AssessJob9  \\\n",
       "count  66985.000000  66985.000000  66985.000000  66985.000000  66985.000000   \n",
       "mean       3.953243      4.407196      5.673181      4.225200      7.640009   \n",
       "std        2.520499      2.502069      2.923998      2.507411      2.407457   \n",
       "min        1.000000      1.000000      1.000000      1.000000      1.000000   \n",
       "25%        2.000000      2.000000      3.000000      2.000000      6.000000   \n",
       "50%        3.000000      4.000000      6.000000      4.000000      8.000000   \n",
       "75%        6.000000      6.000000      8.000000      6.000000     10.000000   \n",
       "max       10.000000     10.000000     10.000000     10.000000     10.000000   \n",
       "\n",
       "            ...        JobEmailPriorities6  JobEmailPriorities7  \\\n",
       "count       ...                46213.00000         46213.000000   \n",
       "mean        ...                    4.97425             4.836388   \n",
       "std         ...                    1.86063             1.659844   \n",
       "min         ...                    1.00000             1.000000   \n",
       "25%         ...                    4.00000             4.000000   \n",
       "50%         ...                    5.00000             5.000000   \n",
       "75%         ...                    7.00000             6.000000   \n",
       "max         ...                    7.00000             7.000000   \n",
       "\n",
       "       ConvertedSalary  AdsPriorities1  AdsPriorities2  AdsPriorities3  \\\n",
       "count     4.770200e+04    60479.000000    60479.000000    60479.000000   \n",
       "mean      9.578086e+04        2.726880        3.805784        3.340945   \n",
       "std       2.023482e+05        1.881078        1.821323        1.673485   \n",
       "min       0.000000e+00        1.000000        1.000000        1.000000   \n",
       "25%       2.384400e+04        1.000000        2.000000        2.000000   \n",
       "50%       5.507500e+04        2.000000        4.000000        3.000000   \n",
       "75%       9.300000e+04        4.000000        5.000000        5.000000   \n",
       "max       2.000000e+06        7.000000        7.000000        7.000000   \n",
       "\n",
       "       AdsPriorities4  AdsPriorities5  AdsPriorities6  AdsPriorities7  \n",
       "count    60479.000000    60479.000000    60479.000000    60479.000000  \n",
       "mean         3.782470        4.383604        5.138809        4.821459  \n",
       "std          1.844864        1.931746        1.853249        1.874895  \n",
       "min          1.000000        1.000000        1.000000        1.000000  \n",
       "25%          2.000000        3.000000        4.000000        3.000000  \n",
       "50%          4.000000        5.000000        6.000000        5.000000  \n",
       "75%          5.000000        6.000000        7.000000        7.000000  \n",
       "max          7.000000        7.000000        7.000000        7.000000  \n",
       "\n",
       "[8 rows x 42 columns]"
      ]
     },
     "execution_count": 9,
     "metadata": {},
     "output_type": "execute_result"
    }
   ],
   "source": [
    "df2018.describe()"
   ]
  },
  {
   "cell_type": "markdown",
   "metadata": {},
   "source": [
    "# 3. Clean"
   ]
  },
  {
   "cell_type": "markdown",
   "metadata": {},
   "source": [
    "**Data Preparation** <br>\n",
    "Data cleaning is necessary for further analysis. <br> \n",
    "The salary difference between countries are so big. It doesn't make sense to calculate the average salary of professional software developers for the whole world. Since we have data from more than 170 countries and dependent territories, it also does not make sense to calculate the average salary for every country. So I added a column named 'continent', and calculated the average salary based on different continents.<br>\n",
    "**Missing Values** <br>\n",
    "Because we have a very large dataset and only a small fraction of data has no salary information, so I removed the rows where salary information are missing.<br>"
   ]
  },
  {
   "cell_type": "code",
   "execution_count": 10,
   "metadata": {},
   "outputs": [],
   "source": [
    "continents = {\n",
    "    'NA': 'North America',\n",
    "    'SA': 'South America', \n",
    "    'AS': 'Asia',\n",
    "    'OC': 'Australia',\n",
    "    'AF': 'Africa',\n",
    "    'EU': 'Europe'\n",
    "}\n",
    "def country2continent(country):\n",
    "    '''\n",
    "    Convert country name to continent name\n",
    "    e.g. input 'USA'  ouput 'North America'\n",
    "    '''\n",
    "    try:\n",
    "        country_code = pc.country_name_to_country_alpha2(country, cn_name_format=\"default\")\n",
    "        continent_code = pc.country_alpha2_to_continent_code(country_code)\n",
    "        continent_name = continents[continent_code]\n",
    "    except:\n",
    "        continent_name = 'not find'\n",
    "    return continent_name"
   ]
  },
  {
   "cell_type": "code",
   "execution_count": 11,
   "metadata": {},
   "outputs": [],
   "source": [
    "def compensation2int(compensation):\n",
    "    '''\n",
    "    Data type convertion from 'object' to 'float'\n",
    "    '''\n",
    "    try:\n",
    "        res = float(compensation)\n",
    "    except:\n",
    "        res = np.nan\n",
    "    return res"
   ]
  },
  {
   "cell_type": "markdown",
   "metadata": {},
   "source": [
    "### 3.1 Clean data for year 2015"
   ]
  },
  {
   "cell_type": "code",
   "execution_count": 12,
   "metadata": {},
   "outputs": [],
   "source": [
    "# create a new column 'continent' based on 'Country'\n",
    "df2015['continent'] = df2015['Country'].apply(country2continent)\n",
    "# Convert the datatype of Compensation from object to float\n",
    "df2015['Compensation: midpoint']=df2015['Compensation: midpoint'].apply(compensation2int)\n",
    "# delete rows if Compensation column is np.nan/missing\n",
    "# Because we have a very large dataset and only a small fraction of data has no salary \n",
    "# information, so I removed the rows where salary information are missing.\n",
    "df2015_remove_nan = df2015.dropna(subset=['Compensation: midpoint'],axis = 0)"
   ]
  },
  {
   "cell_type": "markdown",
   "metadata": {},
   "source": [
    "### 3.2 Clean data for year 2016"
   ]
  },
  {
   "cell_type": "code",
   "execution_count": 13,
   "metadata": {},
   "outputs": [],
   "source": [
    "# create a new column 'continent' based on 'Country'\n",
    "df2016['continent'] = df2016['country'].apply(country2continent)\n",
    "# delete rows if salary column is np.nan\n",
    "# Because we have a very large dataset and only a small fraction of data has no salary \n",
    "# information, so I removed the rows where salary information are missing.\n",
    "df2016_remove_nan = df2016.dropna(subset=['salary_midpoint'],axis = 0)"
   ]
  },
  {
   "cell_type": "markdown",
   "metadata": {},
   "source": [
    "### 3.3 Clean data for year 2017"
   ]
  },
  {
   "cell_type": "code",
   "execution_count": 14,
   "metadata": {},
   "outputs": [],
   "source": [
    "# create a new column 'continent' based on 'Country'\n",
    "df2017['continent'] = df2017['Country'].apply(country2continent)\n",
    "# delete rows if salary column is np.nan\n",
    "# Because we have a very large dataset and only a small fraction of data has no salary \n",
    "# information, so I removed the rows where salary information are missing.\n",
    "df2017_remove_nan = df2017.dropna(subset=['Salary'],axis = 0)"
   ]
  },
  {
   "cell_type": "markdown",
   "metadata": {},
   "source": [
    "### 3.4 Clean data for year 2018"
   ]
  },
  {
   "cell_type": "code",
   "execution_count": 15,
   "metadata": {},
   "outputs": [],
   "source": [
    "# create a new column 'continent' based on 'Country'\n",
    "df2018['continent'] = df2018['Country'].apply(country2continent)\n",
    "# delete rows if salary column is np.nan\n",
    "# Because we have a very large dataset and only a small fraction of data has no salary \n",
    "# information, so I removed the rows where salary information are missing.\n",
    "df2018_remove_nan = df2018.dropna(subset=['ConvertedSalary'], axis=0)"
   ]
  },
  {
   "cell_type": "markdown",
   "metadata": {},
   "source": [
    "### 3.5 Clean data for year 2019"
   ]
  },
  {
   "cell_type": "code",
   "execution_count": 16,
   "metadata": {},
   "outputs": [],
   "source": [
    "# create a new column 'continent' based on 'Country'\n",
    "df2019['continent'] = df2019['Country'].apply(country2continent)\n",
    "# delete rows if salary column is np.nan\n",
    "# Because we have a very large dataset and only a small fraction of data has no salary \n",
    "# information, so I removed the rows where salary information are missing.\n",
    "df2019_remove_nan = df2019.dropna(subset=['ConvertedComp'], axis=0)"
   ]
  },
  {
   "cell_type": "markdown",
   "metadata": {},
   "source": [
    "# 4. Analyze and model"
   ]
  },
  {
   "cell_type": "markdown",
   "metadata": {},
   "source": [
    "### 4.1 Average salary calculation"
   ]
  },
  {
   "cell_type": "markdown",
   "metadata": {},
   "source": [
    "** Incorrect values** <br>\n",
    "When I examining the dataset in the data assessment step, I saw some full time developer have salary of 0, while others have salary of 10^30 dollars! These are obviously not true. So I decided to only include salaries within 0.1 - 0.9 quantile for the average salary calucation. I believe this is reasonable."
   ]
  },
  {
   "cell_type": "markdown",
   "metadata": {},
   "source": [
    "**4.1.1 Year 2015**"
   ]
  },
  {
   "cell_type": "code",
   "execution_count": 17,
   "metadata": {},
   "outputs": [],
   "source": [
    "# only considering full time developers\n",
    "temp = df2015_remove_nan[df2015_remove_nan['Employment Status']=='Employed full-time']\n",
    "# get the 0.1 and 0.9 quantile of salary\n",
    "low = temp['Compensation: midpoint'].quantile(0.1)\n",
    "high = temp['Compensation: midpoint'].quantile(0.9)\n",
    "# only use the salary that is within the range between 0.1 and 0.9 quantile\n",
    "temp = temp[temp['Compensation: midpoint']>=low]\n",
    "temp = temp[temp['Compensation: midpoint']<=high]\n",
    "df_salary_2015 = temp.groupby(['continent']).mean()['Compensation: midpoint']"
   ]
  },
  {
   "cell_type": "markdown",
   "metadata": {},
   "source": [
    "**4.1.2 Year 2016**"
   ]
  },
  {
   "cell_type": "code",
   "execution_count": 18,
   "metadata": {},
   "outputs": [],
   "source": [
    "# only considering full time developers\n",
    "temp = df2016_remove_nan[df2016_remove_nan['employment_status']=='Employed full-time']\n",
    "# get the 0.1 and 0.9 quantile of salary\n",
    "low = temp['salary_midpoint'].quantile(0.1)\n",
    "high = temp['salary_midpoint'].quantile(0.9)\n",
    "# only use the salary that is within the range between 0.1 and 0.9 quantile\n",
    "temp = temp[temp['salary_midpoint']>=low]\n",
    "temp = temp[temp['salary_midpoint']<=high]\n",
    "df_salary_2016 = temp.groupby(['continent']).mean()['salary_midpoint']"
   ]
  },
  {
   "cell_type": "markdown",
   "metadata": {},
   "source": [
    "**4.1.3 Year 2017**"
   ]
  },
  {
   "cell_type": "code",
   "execution_count": 19,
   "metadata": {},
   "outputs": [],
   "source": [
    "# only considering full time developers\n",
    "temp = df2017_remove_nan[df2017_remove_nan['EmploymentStatus']=='Employed full-time']\n",
    "# get the 0.1 and 0.9 quantile of salary\n",
    "low = temp['Salary'].quantile(0.1)\n",
    "high = temp['Salary'].quantile(0.9)\n",
    "temp = temp[temp['Salary']>=low]\n",
    "temp = temp[temp['Salary']<=high]\n",
    "# only use the salary that is within the range between 0.1 and 0.9 quantile\n",
    "df_salary_2017 = temp.groupby(['continent']).mean()['Salary']"
   ]
  },
  {
   "cell_type": "markdown",
   "metadata": {},
   "source": [
    "**4.1.4 Year 2018**"
   ]
  },
  {
   "cell_type": "code",
   "execution_count": 20,
   "metadata": {},
   "outputs": [],
   "source": [
    "# only considering full time developers\n",
    "temp = df2018_remove_nan[df2018_remove_nan['Employment']=='Employed full-time']\n",
    "# get the 0.1 and 0.9 quantile of salary\n",
    "low = temp['ConvertedSalary'].quantile(0.1)\n",
    "high = temp['ConvertedSalary'].quantile(0.9)\n",
    "# only use the salary that is within the range between 0.1 and 0.9 quantile\n",
    "temp = temp[temp['ConvertedSalary']>=low]\n",
    "temp = temp[temp['ConvertedSalary']<=high]\n",
    "df_salary_2018 = temp.groupby(['continent']).mean()['ConvertedSalary']"
   ]
  },
  {
   "cell_type": "markdown",
   "metadata": {},
   "source": [
    "**4.1.5 Year 2019**"
   ]
  },
  {
   "cell_type": "code",
   "execution_count": 21,
   "metadata": {},
   "outputs": [
    {
     "name": "stdout",
     "output_type": "stream",
     "text": [
      "10914.0 180000.0\n"
     ]
    }
   ],
   "source": [
    "temp = df2019_remove_nan[df2019_remove_nan['Employment']=='Employed full-time']\n",
    "low = temp['ConvertedComp'].quantile(0.1)\n",
    "high = temp['ConvertedComp'].quantile(0.9)\n",
    "print(low, high)\n",
    "temp = temp[temp['ConvertedComp']>=low]\n",
    "temp = temp[temp['ConvertedComp']<=high]\n",
    "df_salary_2019 = temp.groupby(['continent']).mean()['ConvertedComp']"
   ]
  },
  {
   "cell_type": "markdown",
   "metadata": {},
   "source": [
    "### 4.2 Most popular programming languages"
   ]
  },
  {
   "cell_type": "markdown",
   "metadata": {},
   "source": [
    "**4.2.1 Year 2015**"
   ]
  },
  {
   "cell_type": "code",
   "execution_count": 22,
   "metadata": {},
   "outputs": [
    {
     "data": {
      "text/plain": [
       "Current Lang & Tech: JavaScript    0.541440\n",
       "Current Lang & Tech: SQL           0.638158\n",
       "Current Lang & Tech: Java          0.684927\n",
       "Current Lang & Tech: C#            0.733612\n",
       "Current Lang & Tech: PHP           0.749712\n",
       "Current Lang & Tech: Python        0.799203\n",
       "Current Lang & Tech: C++           0.826382\n",
       "Current Lang & Tech: SQL Server    0.841716\n",
       "Current Lang & Tech: Android       0.842444\n",
       "Current Lang & Tech: C             0.861535\n",
       "dtype: float64"
      ]
     },
     "execution_count": 22,
     "metadata": {},
     "output_type": "execute_result"
    }
   ],
   "source": [
    "# get the columns related to the programming languages\n",
    "column = [x for x in df2015.columns if x.startswith('Current Lang & Tech')]\n",
    "df2015[column].isnull().mean().sort_values()[0:10]"
   ]
  },
  {
   "cell_type": "markdown",
   "metadata": {},
   "source": [
    "**4.2.2 Year 2016**"
   ]
  },
  {
   "cell_type": "code",
   "execution_count": 23,
   "metadata": {},
   "outputs": [
    {
     "data": {
      "text/plain": [
       "[('JavaScript', 27385),\n",
       " ('SQL', 21976),\n",
       " ('Java', 17942),\n",
       " ('C#', 15283),\n",
       " ('PHP', 12780),\n",
       " ('Python', 12282),\n",
       " ('C++', 9589),\n",
       " ('SQL Server', 9306),\n",
       " ('AngularJS', 8823),\n",
       " ('Android', 8601)]"
      ]
     },
     "execution_count": 23,
     "metadata": {},
     "output_type": "execute_result"
    }
   ],
   "source": [
    "all_languages = []\n",
    "for x in list(df2016['tech_do'].dropna()):\n",
    "    items = x.split(';')\n",
    "    for item in items:\n",
    "        all_languages.append(item.strip())\n",
    "all_languages_count =Counter(all_languages)\n",
    "all_languages_count.most_common(10)"
   ]
  },
  {
   "cell_type": "markdown",
   "metadata": {},
   "source": [
    "**4.2.3 Year 2017**"
   ]
  },
  {
   "cell_type": "code",
   "execution_count": 24,
   "metadata": {},
   "outputs": [
    {
     "data": {
      "text/plain": [
       "[('JavaScript', 22875),\n",
       " ('SQL', 18754),\n",
       " ('Java', 14524),\n",
       " ('C#', 12476),\n",
       " ('Python', 11704),\n",
       " ('PHP', 10290),\n",
       " ('C++', 8155),\n",
       " ('C', 6974),\n",
       " ('TypeScript', 3488),\n",
       " ('Ruby', 3324)]"
      ]
     },
     "execution_count": 24,
     "metadata": {},
     "output_type": "execute_result"
    }
   ],
   "source": [
    "all_languages = []\n",
    "for x in list(df2017['HaveWorkedLanguage'].dropna()):\n",
    "    items = x.split(';')\n",
    "    for item in items:\n",
    "        all_languages.append(item.strip())\n",
    "all_languages_count =Counter(all_languages)\n",
    "all_languages_count.most_common(10)"
   ]
  },
  {
   "cell_type": "markdown",
   "metadata": {},
   "source": [
    "**4.2.4 Year 2018**"
   ]
  },
  {
   "cell_type": "code",
   "execution_count": 25,
   "metadata": {},
   "outputs": [
    {
     "data": {
      "text/plain": [
       "[('JavaScript', 54686),\n",
       " ('HTML', 53628),\n",
       " ('CSS', 50979),\n",
       " ('SQL', 44670),\n",
       " ('Java', 35521),\n",
       " ('Bash/Shell', 31172),\n",
       " ('Python', 30359),\n",
       " ('C#', 26954),\n",
       " ('PHP', 24071),\n",
       " ('C++', 19872)]"
      ]
     },
     "execution_count": 25,
     "metadata": {},
     "output_type": "execute_result"
    }
   ],
   "source": [
    "all_languages = []\n",
    "for x in list(df2018['LanguageWorkedWith'].dropna()):\n",
    "    items = x.split(';')\n",
    "    for item in items:\n",
    "        all_languages.append(item.strip())\n",
    "all_languages_count =Counter(all_languages)\n",
    "all_languages_count.most_common(10)"
   ]
  },
  {
   "cell_type": "markdown",
   "metadata": {},
   "source": [
    "**4.2.5 Year 2019**"
   ]
  },
  {
   "cell_type": "code",
   "execution_count": 26,
   "metadata": {},
   "outputs": [
    {
     "data": {
      "text/plain": [
       "[('JavaScript', 59219),\n",
       " ('HTML/CSS', 55466),\n",
       " ('SQL', 47544),\n",
       " ('Python', 36443),\n",
       " ('Java', 35917),\n",
       " ('Bash/Shell/PowerShell', 31991),\n",
       " ('C#', 27097),\n",
       " ('PHP', 23030),\n",
       " ('C++', 20524),\n",
       " ('TypeScript', 18523)]"
      ]
     },
     "execution_count": 26,
     "metadata": {},
     "output_type": "execute_result"
    }
   ],
   "source": [
    "all_languages = []\n",
    "for x in list(df2019['LanguageWorkedWith'].dropna()):\n",
    "    items = x.split(';')\n",
    "    for item in items:\n",
    "        all_languages.append(item.strip())\n",
    "all_languages_count =Counter(all_languages)\n",
    "all_languages_count.most_common(10)"
   ]
  },
  {
   "cell_type": "markdown",
   "metadata": {},
   "source": [
    "### 4.3 Most popular IDEs"
   ]
  },
  {
   "cell_type": "markdown",
   "metadata": {},
   "source": [
    "I only used the survey data of the recent four years. This is because the survey data in Year 2015 doesn't include information about IDE."
   ]
  },
  {
   "cell_type": "markdown",
   "metadata": {},
   "source": [
    "**4.3.1 Year 2016**"
   ]
  },
  {
   "cell_type": "code",
   "execution_count": 27,
   "metadata": {},
   "outputs": [
    {
     "data": {
      "text/plain": [
       "[('Notepad++', 16607),\n",
       " ('Visual Studio', 16580),\n",
       " ('Sublime', 14434),\n",
       " ('Vim', 12180),\n",
       " ('Eclipse', 10564),\n",
       " ('IntelliJ', 7938),\n",
       " ('Android Studio', 6073),\n",
       " ('Atom', 5825),\n",
       " ('Xcode', 4822),\n",
       " ('NetBeans', 3773)]"
      ]
     },
     "execution_count": 27,
     "metadata": {},
     "output_type": "execute_result"
    }
   ],
   "source": [
    "all_editor = []\n",
    "for x in list(df2016['dev_environment'].dropna()):\n",
    "    items = x.split(';')\n",
    "    for item in items:\n",
    "        all_editor.append(item.strip())\n",
    "all_editor_count =Counter(all_editor)\n",
    "all_editor_count.most_common(10)"
   ]
  },
  {
   "cell_type": "markdown",
   "metadata": {},
   "source": [
    "**4.3.2 Year 2017**"
   ]
  },
  {
   "cell_type": "code",
   "execution_count": 28,
   "metadata": {},
   "outputs": [
    {
     "data": {
      "text/plain": [
       "[('Visual Studio', 13677),\n",
       " ('Notepad++', 12681),\n",
       " ('Sublime Text', 9978),\n",
       " ('Vim', 9679),\n",
       " ('Eclipse', 7899),\n",
       " ('IntelliJ', 7418),\n",
       " ('Visual Studio Code', 6826),\n",
       " ('Atom', 6540),\n",
       " ('Android Studio', 5953),\n",
       " ('Xcode', 3850)]"
      ]
     },
     "execution_count": 28,
     "metadata": {},
     "output_type": "execute_result"
    }
   ],
   "source": [
    "all_editor = []\n",
    "for x in list(df2017['IDE'].dropna()):\n",
    "    items = x.split(';')\n",
    "    for item in items:\n",
    "        all_editor.append(item.strip())\n",
    "all_editor_count =Counter(all_editor)\n",
    "all_editor_count.most_common(10)"
   ]
  },
  {
   "cell_type": "markdown",
   "metadata": {},
   "source": [
    "**4.3.3 Year 2018**"
   ]
  },
  {
   "cell_type": "code",
   "execution_count": 29,
   "metadata": {},
   "outputs": [
    {
     "data": {
      "text/plain": [
       "[('Visual Studio Code', 26280),\n",
       " ('Visual Studio', 25870),\n",
       " ('Notepad++', 25755),\n",
       " ('Sublime Text', 21810),\n",
       " ('Vim', 19477),\n",
       " ('IntelliJ', 18765),\n",
       " ('Android Studio', 14558),\n",
       " ('Eclipse', 14213),\n",
       " ('Atom', 13576),\n",
       " ('PyCharm', 9027)]"
      ]
     },
     "execution_count": 29,
     "metadata": {},
     "output_type": "execute_result"
    }
   ],
   "source": [
    "all_editor = []\n",
    "for x in list(df2018['IDE'].dropna()):\n",
    "    items = x.split(';')\n",
    "    for item in items:\n",
    "        all_editor.append(item.strip())\n",
    "all_editor_count =Counter(all_editor)\n",
    "all_editor_count.most_common(10)"
   ]
  },
  {
   "cell_type": "markdown",
   "metadata": {},
   "source": [
    "**4.3.4 Year 2019**"
   ]
  },
  {
   "cell_type": "code",
   "execution_count": 30,
   "metadata": {},
   "outputs": [
    {
     "data": {
      "text/plain": [
       "[('Visual Studio Code', 44311),\n",
       " ('Visual Studio', 27490),\n",
       " ('Notepad++', 26621),\n",
       " ('IntelliJ', 22166),\n",
       " ('Vim', 22163),\n",
       " ('Sublime Text', 20424),\n",
       " ('Android Studio', 14787),\n",
       " ('Eclipse', 12591),\n",
       " ('PyCharm', 11724),\n",
       " ('Atom', 11636)]"
      ]
     },
     "execution_count": 30,
     "metadata": {},
     "output_type": "execute_result"
    }
   ],
   "source": [
    "all_editor = []\n",
    "for x in list(df2019['DevEnviron'].dropna()):\n",
    "    items = x.split(';')\n",
    "    for item in items:\n",
    "        all_editor.append(item.strip())\n",
    "all_editor_count =Counter(all_editor)\n",
    "all_editor_count.most_common(10)"
   ]
  },
  {
   "cell_type": "markdown",
   "metadata": {},
   "source": [
    "# 5. Visualize"
   ]
  },
  {
   "cell_type": "markdown",
   "metadata": {},
   "source": [
    "The first two figures were generated with Tableau. This is because Tableau is good at drawing figures based on rank. The last two figures were generated using matplotlib."
   ]
  },
  {
   "cell_type": "markdown",
   "metadata": {},
   "source": [
    "### 5.1 Figure 1. The most popular programming languages"
   ]
  },
  {
   "cell_type": "markdown",
   "metadata": {},
   "source": [
    "This figure is generated using Tableau with the results from Part 4.2."
   ]
  },
  {
   "cell_type": "markdown",
   "metadata": {},
   "source": [
    "### 5.2 Figure 2. The most popular IDEs"
   ]
  },
  {
   "cell_type": "markdown",
   "metadata": {},
   "source": [
    "This figure is generated using Tableau with the results from Part 4.3."
   ]
  },
  {
   "cell_type": "markdown",
   "metadata": {},
   "source": [
    "### 5.3 Figure 3. Average salary of full time professional developers"
   ]
  },
  {
   "cell_type": "code",
   "execution_count": 31,
   "metadata": {},
   "outputs": [],
   "source": [
    "df_salary_2015.name = '2015'\n",
    "df_salary_2016.name = '2016'\n",
    "df_salary_2017.name = '2017'\n",
    "df_salary_2018.name = '2018'\n",
    "df_salary_2019.name = '2019'"
   ]
  },
  {
   "cell_type": "code",
   "execution_count": 32,
   "metadata": {},
   "outputs": [],
   "source": [
    "df_salary = pd.DataFrame([df_salary_2015,df_salary_2016,df_salary_2017,df_salary_2018,df_salary_2019])\n",
    "df_salary = df_salary/1000\n"
   ]
  },
  {
   "cell_type": "code",
   "execution_count": 33,
   "metadata": {},
   "outputs": [
    {
     "data": {
      "image/png": "[encoded data removed]",
      "text/plain": [
       "<matplotlib.figure.Figure at 0x127078ba8>"
      ]
     },
     "metadata": {},
     "output_type": "display_data"
    }
   ],
   "source": [
    "plt.figure(figsize=(8,6))\n",
    "plt.title('Average salary of full time professional developers ',fontsize='x-large')\n",
    "plt.xlabel(\"Year\",fontsize='x-large')\n",
    "plt.ylabel(\"Average salary / year (K US dollars)\",fontsize='x-large')\n",
    "plt.plot(df_salary['North America'],'-o',label='North America')\n",
    "plt.plot(df_salary['Australia'],'-o',label='Australia')\n",
    "plt.plot(df_salary['Europe'],'-o',label='Europe')\n",
    "plt.plot(df_salary['Africa'],'-o',label='Africa')\n",
    "plt.plot(df_salary['Asia'],'-o',label='Asia')\n",
    "plt.plot(df_salary['South America'],'-o',label='South America')\n",
    "plt.grid('on')\n",
    "plt.tick_params(labelsize=13)\n",
    "lg=plt.legend(loc=[1.01, 0.5],fontsize='x-large')\n",
    "plt.text(3.5,9,'Based on Stack Overflow Annual Developer Survey',fontsize=9)\n",
    "plt.savefig('salary_increase.png',dpi=300, bbox_extra_artists=(lg,),bbox_inches='tight')\n",
    "plt.show()"
   ]
  },
  {
   "cell_type": "markdown",
   "metadata": {},
   "source": [
    "### 5.4 Figure 4. The salary increase rate starting from Year 2015 in percent %"
   ]
  },
  {
   "cell_type": "markdown",
   "metadata": {},
   "source": [
    "It is also interesting to know the salary increase rate, So I calcualted the cumulative salary increase rate using Year 2015 as the baseline."
   ]
  },
  {
   "cell_type": "code",
   "execution_count": 34,
   "metadata": {},
   "outputs": [],
   "source": [
    "# get the salary increase percentage using Year 2015 as the baseline\n",
    "df_salary_percentage=(df_salary/df_salary.iloc[0,:]-1)*100"
   ]
  },
  {
   "cell_type": "code",
   "execution_count": 35,
   "metadata": {},
   "outputs": [
    {
     "data": {
      "image/png": "[encoded data removed]",
      "text/plain": [
       "<matplotlib.figure.Figure at 0x1271e5748>"
      ]
     },
     "metadata": {},
     "output_type": "display_data"
    }
   ],
   "source": [
    "plt.figure(figsize=(8,6))\n",
    "plt.title('Cumulative salary increase rate starting from Year 2015',fontsize='x-large')\n",
    "plt.xlabel(\"Year\",fontsize='x-large')\n",
    "plt.ylabel(\"Salary increase rate in percent (%) \",fontsize='x-large')\n",
    "plt.plot(df_salary_percentage['Asia'],'-o',label='Asia')\n",
    "plt.plot(df_salary_percentage['Africa'],'-o',label='Africa')\n",
    "plt.plot(df_salary_percentage['North America'],'-o',label='North America')\n",
    "plt.plot(df_salary_percentage['Europe'],'-o',label='Europe')\n",
    "plt.plot(df_salary_percentage['Australia'],'-o',label='Australia')\n",
    "plt.plot(df_salary_percentage['South America'],'-o',label='South America')\n",
    "plt.grid('on')\n",
    "plt.tick_params(labelsize=13)\n",
    "plt.text(3.5,-43,'Based on Stack Overflow Annual Developer Survey',fontsize=9)\n",
    "lg=plt.legend(loc=[1.01, 0.5], fontsize='x-large')\n",
    "plt.savefig('salary_increase_percentage.png',dpi=300, bbox_extra_artists=(lg,),bbox_inches='tight')\n",
    "plt.show()"
   ]
  },
  {
   "cell_type": "code",
   "execution_count": null,
   "metadata": {},
   "outputs": [],
   "source": []
  }
 ],
 "metadata": {
  "kernelspec": {
   "display_name": "Python 3",
   "language": "python",
   "name": "python3"
  },
  "language_info": {
   "codemirror_mode": {
    "name": "ipython",
    "version": 3
   },
   "file_extension": ".py",
   "mimetype": "text/x-python",
   "name": "python",
   "nbconvert_exporter": "python",
   "pygments_lexer": "ipython3",
   "version": "3.6.4"
  }
 },
 "nbformat": 4,
 "nbformat_minor": 2
}
